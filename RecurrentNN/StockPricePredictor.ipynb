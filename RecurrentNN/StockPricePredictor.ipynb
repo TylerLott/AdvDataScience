{
 "cells": [
  {
   "cell_type": "markdown",
   "metadata": {
    "collapsed": false
   },
   "source": [
    "# Homework 6 is a bitch\n",
    "For that reason I am walking through making a rnn to predict stock prices in a slow manner.\n",
    "\n",
    "I will start with the absolute basics: \n",
    "\n",
    "## 1 (COMPLETE)\n",
    "To start, I will be predicting AAPL stock only\n",
    "\n",
    "I will only be looking at closing price\n",
    "\n",
    "I will use the log values\n",
    "\n",
    "I will predict price of the next day\n",
    "\n",
    "## 1.1 (COMPLETE) - keras is easier so going with that\n",
    "Implement the same thing in tensorflow to see what is easier\n",
    "\n",
    "\n",
    "## 2 (COMPLETE)\n",
    "\n",
    "After I prove that I can do that, I will predict for the 5 values\n",
    "\n",
    "## 3 (COMPLETE)\n",
    "After that I will use embedding of the stock symbol\n",
    "\n",
    "## 4 \n",
    "Make the network predict out 10 days on its own, use teacher forcing\n",
    "\n",
    "## 5 \n",
    "Add in all of the datasets for the all the stocks\n"
   ]
  },
  {
   "cell_type": "markdown",
   "metadata": {
    "collapsed": false
   },
   "source": [
    "# Data Preprocessing"
   ]
  },
  {
   "cell_type": "code",
   "execution_count": null,
   "metadata": {
    "collapsed": false,
    "pycharm": {
     "name": "#%%\n"
    }
   },
   "outputs": [],
   "source": [
    "# IMPORTS\n",
    "\n",
    "import pandas as pd\n",
    "import matplotlib.pyplot as plt\n",
    "import numpy as np\n",
    "import torch\n",
    "import torch.nn as nn\n",
    "from sklearn.preprocessing import MinMaxScaler\n",
    "from torch.autograd import Variable\n"
   ]
  },
  {
   "cell_type": "code",
   "execution_count": null,
   "metadata": {
    "collapsed": false,
    "pycharm": {
     "name": "#%%\n"
    }
   },
   "outputs": [],
   "source": [
    "# import the csv of AAPL data\n",
    "\n",
    "# bring in dataset with the dates as the index\n",
    "df = pd.read_csv('stock_data/AAPL_data.csv')\n",
    "\n",
    "df.head()"
   ]
  },
  {
   "cell_type": "code",
   "execution_count": null,
   "metadata": {
    "collapsed": false,
    "pycharm": {
     "name": "#%%\n"
    }
   },
   "outputs": [],
   "source": [
    "# give some details of the dataframe\n",
    "df.describe()"
   ]
  },
  {
   "cell_type": "code",
   "execution_count": null,
   "metadata": {
    "collapsed": false,
    "pycharm": {
     "name": "#%%\n"
    }
   },
   "outputs": [],
   "source": [
    "# show a plot of the prices for some of the values\n",
    "\n",
    "df['Close'].plot()\n",
    "df['High'].plot()\n",
    "df['Low'].plot()\n",
    "df['Open'].plot()\n",
    "\n",
    "plt.show()"
   ]
  },
  {
   "cell_type": "markdown",
   "metadata": {
    "collapsed": false
   },
   "source": [
    "## Modify the data\n",
    "We are scaling the dat between -1 and 1"
   ]
  },
  {
   "cell_type": "code",
   "execution_count": null,
   "metadata": {
    "collapsed": false,
    "pycharm": {
     "name": "#%%\n"
    }
   },
   "outputs": [],
   "source": [
    "scaler_close = MinMaxScaler(feature_range=(-1, 1))\n",
    "scaler_open = MinMaxScaler(feature_range=(-1, 1))\n",
    "scaler_high = MinMaxScaler(feature_range=(-1, 1))\n",
    "scaler_low = MinMaxScaler(feature_range=(-1, 1))\n",
    "scaler_volume = MinMaxScaler(feature_range=(-1, 1))"
   ]
  },
  {
   "cell_type": "code",
   "execution_count": null,
   "metadata": {
    "collapsed": false,
    "pycharm": {
     "name": "#%%\n"
    }
   },
   "outputs": [],
   "source": [
    "# TODO: fix the scaler - it is using only the volume fit as that was called last\n",
    "\n",
    "aug_5_feat = df[['Close', 'Open', 'High', 'Low', 'Volume']]\n",
    "aug_5_feat['Close'] = scaler_close.fit_transform(aug_5_feat['Close'].values.reshape(-1, 1))\n",
    "aug_5_feat['Open'] = scaler_open.fit_transform(aug_5_feat['Open'].values.reshape(-1, 1))\n",
    "aug_5_feat['High'] = scaler_high.fit_transform(aug_5_feat['High'].values.reshape(-1, 1))\n",
    "aug_5_feat['Low'] = scaler_low.fit_transform(aug_5_feat['Low'].values.reshape(-1, 1))\n",
    "aug_5_feat['Volume'] = scaler_volume.fit_transform(aug_5_feat['Volume'].values.reshape(-1, 1))\n",
    "aug_5_feat.head()"
   ]
  },
  {
   "cell_type": "markdown",
   "metadata": {
    "collapsed": false
   },
   "source": [
    "## Split the data into train and prediction\n",
    "We will be predicting the next day value"
   ]
  },
  {
   "cell_type": "code",
   "execution_count": null,
   "metadata": {
    "collapsed": false,
    "pycharm": {
     "name": "#%%\n"
    }
   },
   "outputs": [],
   "source": [
    "aug_5_feat.head()"
   ]
  },
  {
   "cell_type": "code",
   "execution_count": null,
   "metadata": {
    "collapsed": false,
    "pycharm": {
     "name": "#%%\n"
    }
   },
   "outputs": [],
   "source": [
    "def split_train_pred(df, w):\n",
    "    # w is the size of the window\n",
    "    df_raw = df.to_numpy()\n",
    "    data = []\n",
    "    \n",
    "    for i in range(len(df) - w):\n",
    "        data.append(df_raw[i:i+w+1])\n",
    "    \n",
    "    data = np.array(data)\n",
    "    test_set_size = int(np.round(.2*data.shape[0]))\n",
    "    train_set_size = data.shape[0] - test_set_size\n",
    "    \n",
    "    x = data[:train_set_size, :-1, :]\n",
    "    y = data[:train_set_size, -1, :]\n",
    "    \n",
    "    x_test = data[train_set_size:, :-1]\n",
    "    y_test = data[train_set_size:, -1, :]\n",
    "        \n",
    "    return x, y, x_test, y_test"
   ]
  },
  {
   "cell_type": "code",
   "execution_count": null,
   "metadata": {
    "collapsed": false,
    "pycharm": {
     "name": "#%%\n"
    }
   },
   "outputs": [],
   "source": [
    "x_5, y_5, x_5_test, y_5_test = split_train_pred(aug_5_feat, 20)"
   ]
  },
  {
   "cell_type": "code",
   "execution_count": null,
   "metadata": {
    "collapsed": false,
    "pycharm": {
     "name": "#%%\n"
    }
   },
   "outputs": [],
   "source": [
    "print(x_5.shape)\n",
    "print(y_5.shape)\n",
    "\n",
    "print(x_5[1])\n",
    "print(y_5[0])\n",
    "\n",
    "        "
   ]
  },
  {
   "cell_type": "code",
   "execution_count": null,
   "metadata": {
    "collapsed": false,
    "pycharm": {
     "name": "#%%\n"
    }
   },
   "outputs": [],
   "source": [
    "print(x_5[0])\n",
    "x_train_tf = np.array(x_5)\n",
    "y_train_tf = np.array(y_5)\n",
    "x_test_tf = np.array(x_5_test)\n",
    "y_test_tf = np.array(y_5_test)"
   ]
  },
  {
   "cell_type": "markdown",
   "metadata": {
    "collapsed": false
   },
   "source": [
    "## Create Dict for stock -> int"
   ]
  },
  {
   "cell_type": "code",
   "execution_count": null,
   "metadata": {
    "collapsed": false,
    "pycharm": {
     "name": "#%%\n"
    }
   },
   "outputs": [],
   "source": [
    "print(x_train_tf.shape)\n",
    "stock_dict = {'AAPL': 1}\n",
    "\n",
    "stock_input = []\n",
    "for i in range(991):\n",
    "    stock_input.append(stock_dict['AAPL'])\n",
    "\n",
    "\n",
    "x_stock_train = np.array(stock_input).reshape(991, 1)\n",
    "print(x_stock_train.shape)"
   ]
  },
  {
   "cell_type": "markdown",
   "metadata": {
    "collapsed": false
   },
   "source": [
    "# Build Model (Tensorflow)"
   ]
  },
  {
   "cell_type": "code",
   "execution_count": null,
   "metadata": {
    "collapsed": false,
    "pycharm": {
     "name": "#%%\n"
    }
   },
   "outputs": [],
   "source": [
    "from tensorflow.keras.layers import LSTM, Dense, Input, Embedding, Lambda, Concatenate, Reshape\n",
    "from tensorflow.keras import Model\n",
    "import tensorflow"
   ]
  },
  {
   "cell_type": "markdown",
   "metadata": {
    "collapsed": false
   },
   "source": [
    "Actual model building (switch from sequential to functional)"
   ]
  },
  {
   "cell_type": "code",
   "execution_count": null,
   "metadata": {
    "collapsed": false,
    "pycharm": {
     "name": "#%%\n"
    }
   },
   "outputs": [],
   "source": [
    "stock_inp_dim = 20\n",
    "stock_inp_dim_2 = 5\n",
    "num_stocks = 503\n",
    "emb_dim = 16\n",
    "\n",
    "def format_emb(x):\n",
    "    new_list = []\n",
    "    for i in x:\n",
    "        interm = []\n",
    "        for j in range(5):\n",
    "            interm.append(i)\n",
    "        new_list.append(interm)\n",
    "    return np.array(new_list)\n",
    "\n",
    "# Inputs for stock prices and for stock name int\n",
    "inputA = Input(shape=(stock_inp_dim, stock_inp_dim_2)) # input is a sequence of stocks, with 5 features per day\n",
    "inputB = Input(shape=(1)) # input is a single integer mapped to a stock\n",
    "\n",
    "# Embedding the stock name and modifying to be able to cat with the sequence\n",
    "x = Embedding(num_stocks, emb_dim)(inputB)\n",
    "x = Dense(emb_dim*5, trainable=False)(x)\n",
    "x = Reshape((emb_dim, 5))(x)\n",
    "\n",
    "# Concatenate the price sequence with the embedded\n",
    "combined = Concatenate(axis=1)([inputA, x])\n",
    "\n",
    "# LSTM stuff\n",
    "y = LSTM(4)(combined)\n",
    "y = Dense(5)(y)\n",
    "\n",
    "model = Model(inputs=[inputA, inputB], outputs=y)\n",
    "\n",
    "model.compile(loss='mean_squared_error', optimizer='adam')\n"
   ]
  },
  {
   "cell_type": "code",
   "execution_count": null,
   "metadata": {
    "collapsed": false,
    "pycharm": {
     "name": "#%%\n"
    }
   },
   "outputs": [],
   "source": [
    "model.fit(x=[x_train_tf, x_stock_train], y=y_train_tf, epochs=50, batch_size=32, verbose=2)"
   ]
  },
  {
   "cell_type": "code",
   "execution_count": null,
   "metadata": {
    "collapsed": false,
    "pycharm": {
     "name": "#%%\n"
    }
   },
   "outputs": [],
   "source": [
    "print(type(x_test_tf))\n",
    "print(y_train_tf.shape)"
   ]
  },
  {
   "cell_type": "code",
   "execution_count": null,
   "metadata": {
    "collapsed": false,
    "pycharm": {
     "name": "#%%\n"
    }
   },
   "outputs": [],
   "source": [
    "import math\n",
    "from sklearn.metrics import mean_squared_error\n",
    "\n",
    "# make predictions\n",
    "trainPredict = model.predict((x_train_tf, x_stock_train))\n",
    "testPredict = model.predict((x_test_tf, x_stock_train[:248]))\n",
    "\n",
    "# invert predictions\n",
    "trainPredict = scaler_close.inverse_transform(trainPredict[:, 0].reshape(-1, 1))\n",
    "trainY = scaler_close.inverse_transform(y_train_tf[:, 0].reshape(-1, 1))\n",
    "testPredict = scaler_close.inverse_transform(testPredict[:, 0].reshape(-1, 1))\n",
    "testY = scaler_close.inverse_transform(y_test_tf[:, 0].reshape(-1, 1))"
   ]
  },
  {
   "cell_type": "code",
   "execution_count": null,
   "metadata": {
    "collapsed": false,
    "pycharm": {
     "name": "#%%\n"
    }
   },
   "outputs": [],
   "source": [
    "print(trainY.shape)\n",
    "print(testY.shape)\n",
    "print(trainPredict[0])"
   ]
  },
  {
   "cell_type": "code",
   "execution_count": null,
   "metadata": {
    "collapsed": false,
    "pycharm": {
     "name": "#%%\n"
    }
   },
   "outputs": [],
   "source": [
    "look_back = 19\n",
    "\n",
    "# shift train predictions for plotting\n",
    "# trainPredictPlot = np.empty_like(aug_5_feat['Close'])\n",
    "trainPredictPlot = np.empty(shape=(1259, 1))\n",
    "trainPredictPlot[:, :] = np.nan\n",
    "trainPredictPlot[look_back:len(trainPredict)+look_back, :] = trainPredict\n",
    "# shift test predictions for plotting\n",
    "# testPredictPlot = np.empty_like(aug_5_feat['Close'])\n",
    "testPredictPlot = np.empty(shape=(1259, 1))\n",
    "testPredictPlot[:, :] = np.nan\n",
    "testPredictPlot[len(trainPredict)+(look_back*2)-19:len(aug_5_feat['Close'])-1, :] = testPredict\n",
    "# testPredictPlot[len(trainPredict)+(look_back*2)+1:len(aug_df)-1, :] = testPredict\n",
    "# plot baseline and predictions\n",
    "\n",
    "original = np.concatenate((trainY, testY))\n",
    "\n",
    "plt.plot(original, label='original')\n",
    "plt.plot(trainPredictPlot, label='train pred')\n",
    "plt.plot(testPredictPlot, label='test pred')\n",
    "plt.legend()\n",
    "plt.show()\n",
    "\n"
   ]
  }
 ],
 "metadata": {
  "interpreter": {
   "hash": "b83dc139c99643331af52ac822a32865de90d624539b40885aec1f264ad4051d"
  },
  "kernelspec": {
   "display_name": "Python 3.8.0 64-bit",
   "name": "python3"
  },
  "language_info": {
   "name": "python",
   "version": ""
  },
  "pycharm": {
   "stem_cell": {
    "cell_type": "raw",
    "metadata": {
     "collapsed": false
    },
    "source": []
   }
  }
 },
 "nbformat": 4,
 "nbformat_minor": 0
}
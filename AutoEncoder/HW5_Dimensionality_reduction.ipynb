{
 "cells": [
  {
   "cell_type": "markdown",
   "metadata": {
    "id": "Imhh2oKNNGDy"
   },
   "source": [
    "# DataScience: Build a Supervised Autoencoder.\r\n",
    "\r\n",
    "**Name: Tyler Lott**\r\n",
    "\r\n",
    "\r\n",
    "In this assignment we implemented both a unsupervised and supervised autoencoder. They were both implemented using pytorch. The dataset being used was the raw MNIST dataset. \r\n",
    "\r\n",
    "**We will build and train a supervised autoencoder look like the following.** You can add other layers properly to alleviate overfitting.\r\n",
    "\r\n",
    "\r\n",
    "![Network Structure](https://github.com/wangshusen/CS583A-2019Spring/blob/master/homework/HM5/supervised_ae.png?raw=true \"NetworkStructure\")\r\n",
    "\r\n"
   ]
  },
  {
   "cell_type": "markdown",
   "metadata": {
    "id": "NrkMZSD_NGD2"
   },
   "source": [
    "## 1. Data preparation"
   ]
  },
  {
   "cell_type": "markdown",
   "metadata": {
    "id": "qavX6jXONGD3"
   },
   "source": [
    "### 1.1. Load data\n"
   ]
  },
  {
   "cell_type": "code",
   "execution_count": 1,
   "metadata": {
    "id": "Ch0KwYrsNGD4",
    "pycharm": {
     "is_executing": false
    }
   },
   "outputs": [],
   "source": [
    "import torch\n",
    "import torch.nn as nn\n",
    "import torch.nn.functional as F\n",
    "import torch.optim as optim\n",
    "from torchvision import datasets, transforms\n",
    "from torchvision.utils import make_grid\n",
    "from torch.utils.data import DataLoader, random_split\n",
    "from torch.autograd import Variable\n",
    "from torch.optim.lr_scheduler import StepLR\n",
    "# from torchsummary import summary\n",
    "import numpy as np\n",
    "\n",
    "device = torch.device(\"cuda\")"
   ]
  },
  {
   "cell_type": "markdown",
   "metadata": {
    "id": "HXSHWparO9OP"
   },
   "source": [
    "Hyper-parameters"
   ]
  },
  {
   "cell_type": "code",
   "execution_count": 2,
   "metadata": {
    "id": "Ga6YIozvO7uO",
    "pycharm": {
     "is_executing": false
    }
   },
   "outputs": [],
   "source": [
    "args={}\n",
    "batch_size = 32\n",
    "test_batch_size = 1000\n",
    "epochs = 5  # You need to tune this hyper-parameter\n",
    "learning_rate = 0.01 #Learning rate is how fast it will decend. "
   ]
  },
  {
   "cell_type": "markdown",
   "metadata": {
    "id": "AhtQ4qV8REQW"
   },
   "source": [
    "Randomly partition the 60K training samples to 2 sets:\n",
    "* a training set containing 50K samples;\n",
    "* a validation set containing 10K samples."
   ]
  },
  {
   "cell_type": "code",
   "execution_count": 3,
   "metadata": {
    "colab": {
     "base_uri": "https://localhost:8080/",
     "height": 373,
     "referenced_widgets": [
      "6189e543d89d4ec8941a9d14520976b7",
      "1062595a99824361b23b3e63913107ed",
      "e103a168185643fcb79c22bd253b9ec2",
      "8ebe35e0e9344b07852b282f905cb59c",
      "c6a8d5a5ed4546fa8c18856122eb07e9",
      "f8a59d97527e4d5daa8e06cfcf0077d6",
      "630c707d96b74d4b94bf291a29b7d1f6",
      "d0572506298143d4882cd36c47c94887",
      "089ef6a3bff345b0a8bc08cd314c9c9e",
      "67c132063094410d8a56d1b798dd8b51",
      "a369bed1e0db4f1c8ba333c6fd2193db",
      "24a575fdb3b54e8597e5d46dc4928ee9",
      "adc9a2bcb24e4d7fb1c0e188f94bd31a",
      "48ebe5b670c441cc8f823bf595ced033",
      "3f2c82702fe34421a2163586494e8ebb",
      "e20925ae5a9e4c37990ac1b2c9faaadd",
      "f77779e4abe94999823c39cecad77d47",
      "7df1cec482f140f998bbeb474f15fca4",
      "bf929a5d7d3f4989b7b8933d22e6dff0",
      "dbe39e8d6a78401ba7b97c03bf35ae8f",
      "99c16c63eca04d6f86c082f827723a78",
      "679e318a941342a2b0e391fe0cc2b6d5",
      "dc787a107f95451b925c2fa21570c644",
      "bac8e0ca6dfa40e4857b83ee39d2a33b",
      "8428577da41e4c03bddf80d0810572bc",
      "e8440e5e6ff247b58d438753bc74eba3",
      "86518586b355409989b024452e8f1cc9",
      "de0384b667f1437aabc5efd33a43179d",
      "c0776fdf4d4e45d590f46af37ebb5124",
      "94ca113b48284338ab6fea463e066060",
      "5b99e33da7064b2797983ccb5e3cb18d",
      "c287801b0f3245c3ba2a418deb24fc98"
     ]
    },
    "id": "J2y06zqUOpXC",
    "outputId": "18bcf7a9-0c1b-4bd4-fd27-4804995a0ba1",
    "pycharm": {
     "is_executing": false
    }
   },
   "outputs": [],
   "source": [
    "img_transform = transforms.Compose([\n",
    "    transforms.ToTensor(),\n",
    "    transforms.Normalize([0.5], [0.5])\n",
    "])\n",
    "\n",
    "train_dataset = datasets.MNIST('./data', train=True, download=True, transform=img_transform)\n",
    "train_dataset, val_dataset = random_split(train_dataset, [50000,10000])\n",
    "train_loader = DataLoader(train_dataset, batch_size=batch_size,\n",
    "                          shuffle=True, num_workers=2)\n",
    "val_loader = DataLoader(val_dataset, batch_size=test_batch_size, \n",
    "                        shuffle=False)\n",
    "\n",
    "test_dataset = datasets.MNIST('./data', train=False, download=True, transform=img_transform)\n",
    "test_loader = DataLoader(test_dataset, batch_size=test_batch_size,\n",
    "                             shuffle=True, num_workers=2)"
   ]
  },
  {
   "cell_type": "markdown",
   "metadata": {
    "id": "4_2fyLFTNGEI"
   },
   "source": [
    "## 2. Build an unsupervised  autoencoder and tune its hyper-parameters\n",
    "\n",
    "1. Build a dense autoencoder model\n",
    "2. Use the validation data to tune the hyper-parameters (e.g., network structure, and optimization algorithm)\n",
    "    * Do NOT use test data for hyper-parameter tuning!!!\n",
    "    \n",
    "3. Try to achieve a validation loss as low as possible.\n",
    "4. Evaluate the model on the test set.\n",
    "5. Visualize the low-dim features."
   ]
  },
  {
   "cell_type": "markdown",
   "metadata": {
    "id": "AKg9fwlyNGEJ"
   },
   "source": [
    "### 2.1. Build the model"
   ]
  },
  {
   "cell_type": "code",
   "execution_count": 4,
   "metadata": {
    "colab": {
     "base_uri": "https://localhost:8080/"
    },
    "id": "r0vQdlG2NGEK",
    "outputId": "41c3e162-f028-4045-bc5c-7c6c77a8c823",
    "pycharm": {
     "is_executing": false
    }
   },
   "outputs": [],
   "source": [
    "class autoencoder(nn.Module):\n",
    "    def __init__(self):\n",
    "        super(autoencoder, self).__init__()\n",
    "        self.encoder = nn.Sequential(\n",
    "            nn.Linear(28 * 28, 128),\n",
    "            nn.ReLU(True),\n",
    "            nn.Linear(128, 64),\n",
    "            nn.ReLU(True), \n",
    "            nn.Linear(64, 32), \n",
    "            nn.ReLU(True), \n",
    "            nn.Linear(32, 2))\n",
    "        \n",
    "        self.decoder = nn.Sequential(\n",
    "            nn.Linear(2, 32),\n",
    "            nn.ReLU(True),\n",
    "            nn.Linear(32, 64),\n",
    "            nn.ReLU(True),\n",
    "            nn.Linear(64, 128),\n",
    "            nn.ReLU(True), \n",
    "            nn.Linear(128, 28 * 28), \n",
    "            nn.Tanh())\n",
    "\n",
    "    def forward(self, x):\n",
    "        x = self.encoder(x)\n",
    "        x = self.decoder(x)\n",
    "        return x\n",
    "\n",
    "ae = autoencoder().cuda()\n",
    "# summary(ae, input_size=(28*28,))"
   ]
  },
  {
   "cell_type": "markdown",
   "metadata": {
    "id": "bk7Cp4YoNGES"
   },
   "source": [
    "### 2.2. Train the model and tune the hyper-parameters"
   ]
  },
  {
   "cell_type": "code",
   "execution_count": 5,
   "metadata": {
    "id": "T0zLfoekNGET",
    "pycharm": {
     "is_executing": false
    }
   },
   "outputs": [],
   "source": [
    "ae_criterion = nn.MSELoss()\n",
    "ae_optimizer = torch.optim.Adam(\n",
    "    ae.parameters(), lr=learning_rate, weight_decay=1e-5)"
   ]
  },
  {
   "cell_type": "code",
   "execution_count": 6,
   "metadata": {
    "colab": {
     "base_uri": "https://localhost:8080/"
    },
    "id": "1IP3nYFVNGEX",
    "outputId": "dd9165e0-8538-409d-cf01-06da539260ca",
    "pycharm": {
     "is_executing": false
    }
   },
   "outputs": [
    {
     "name": "stdout",
     "output_type": "stream",
     "text": [
      "epoch [1/5], train loss:0.2044, val loss:0.1864\n",
      "epoch [2/5], train loss:0.1875, val loss:0.1854\n",
      "epoch [3/5], train loss:0.1863, val loss:0.1915\n",
      "epoch [4/5], train loss:0.1826, val loss:0.1851\n",
      "epoch [5/5], train loss:0.1865, val loss:0.1825\n"
     ]
    }
   ],
   "source": [
    "train_loss  = []\n",
    "val_loss = []\n",
    "for epoch in range(epochs):\n",
    "    ae.train()\n",
    "    batch_loss  = []\n",
    "    for data in train_loader:\n",
    "        img, _ = data\n",
    "        img = img.view(img.size(0), -1)\n",
    "        img = Variable(img).cuda()\n",
    "        # ===================forward=====================\n",
    "        output = ae(img)\n",
    "        loss = ae_criterion(output, img)\n",
    "        # ===================backward====================\n",
    "        ae_optimizer.zero_grad()\n",
    "        loss.backward()\n",
    "        ae_optimizer.step()\n",
    "        # ===================log========================\n",
    "        batch_loss.append(loss.item())\n",
    "    train_loss.append(np.mean(batch_loss))\n",
    "    \n",
    "    \n",
    "    ae.eval()\n",
    "    batch_loss  = []\n",
    "    with torch.no_grad():\n",
    "      for img, y in val_loader:\n",
    "          img = img.view(img.size(0), -1)\n",
    "          img, y = img.cuda(), y.cuda()\n",
    "          output = ae(img)\n",
    "          loss = ae_criterion(output, img)\n",
    "          batch_loss.append(loss.item())\n",
    "    val_loss.append(np.mean(batch_loss))\n",
    "    print('epoch [{}/{}], train loss:{:.4f}, val loss:{:.4f}'\n",
    "          .format(epoch + 1, epochs, train_loss[-1], val_loss[-1]))"
   ]
  },
  {
   "cell_type": "code",
   "execution_count": 7,
   "metadata": {
    "colab": {
     "base_uri": "https://localhost:8080/",
     "height": 281
    },
    "id": "vvbL0SEPNGEb",
    "outputId": "445874c9-a94d-4ae3-c4c7-d2c535d37a6e",
    "pycharm": {
     "is_executing": false
    }
   },
   "outputs": [
    {
     "data": {
      "image/png": "[encoded data removed]",
      "text/plain": [
       "<Figure size 432x288 with 1 Axes>"
      ]
     },
     "metadata": {
      "needs_background": "light"
     },
     "output_type": "display_data"
    }
   ],
   "source": [
    "import matplotlib.pyplot as plt\n",
    "%matplotlib inline\n",
    "\n",
    "epochs_list = range(len(train_loss))\n",
    "plt.plot(epochs_list, train_loss, 'bo-', label='Training Loss')\n",
    "plt.plot(epochs_list, val_loss, 'r', label='Validation Loss')\n",
    "plt.xlabel('Epochs')\n",
    "plt.ylabel('Loss')\n",
    "plt.legend()\n",
    "plt.show()"
   ]
  },
  {
   "cell_type": "markdown",
   "metadata": {
    "id": "i9hfUU8aNGEi"
   },
   "source": [
    "### 2.3. Evaluate the model on the test set\n",
    "\n",
    "Do NOT used the test set until now. Make sure that your model parameters and hyper-parameters are independent of the test set."
   ]
  },
  {
   "cell_type": "code",
   "execution_count": 8,
   "metadata": {
    "colab": {
     "base_uri": "https://localhost:8080/"
    },
    "id": "WDJA5-xINGEj",
    "outputId": "43abfcb3-e82f-4f44-da4b-d1d110bbe651",
    "pycharm": {
     "is_executing": false
    }
   },
   "outputs": [
    {
     "name": "stdout",
     "output_type": "stream",
     "text": [
      "Test loss:0.1814357593655586\n"
     ]
    }
   ],
   "source": [
    "ae.eval()\n",
    "batch_loss = []\n",
    "with torch.no_grad():\n",
    "    for img, y in test_loader:\n",
    "        img = img.view(img.size(0), -1)\n",
    "        img, y = img.cuda(), y.cuda()\n",
    "        output = ae(img)\n",
    "        loss = ae_criterion(output, img)\n",
    "        batch_loss.append(loss.item())\n",
    "    print(f\"Test loss:{np.mean(batch_loss)}\")"
   ]
  },
  {
   "cell_type": "markdown",
   "metadata": {
    "id": "8CSAaPerNGEm"
   },
   "source": [
    "### 2.4. Visualize the low-dimensional features"
   ]
  },
  {
   "cell_type": "code",
   "execution_count": 9,
   "metadata": {
    "id": "JpzY-AYxNGEm",
    "pycharm": {
     "is_executing": false
    }
   },
   "outputs": [],
   "source": [
    "# visualize the features\r\n",
    "# your code here\r\n",
    "\r\n",
    "e.eval()\r\n",
    "code_vector_list = None\r\n",
    "label_list = []\r\n",
    "for i, (data, labels) in enumerate(test_loader):\r\n",
    "    data = Variable(data).cuda()\r\n",
    "    code_vector = ae.encoder(data.view(-1, 28*28))\r\n",
    "\r\n",
    "    if i == 0:\r\n",
    "        code_vector_list = code_vector\r\n",
    "        label_list = labels\r\n",
    "    else:\r\n",
    "        code_vector_list = torch.cat((code_vector_list, code_vector), 0)\r\n",
    "        label_list = torch.cat((label_list, labels), 0)\r\n",
    "\r\n",
    "code_vector_list = code_vector_list.data.cpu().numpy()[:1000]\r\n",
    "label_list = label_list.cpu().numpy()[:1000]"
   ]
  },
  {
   "cell_type": "code",
   "execution_count": 10,
   "metadata": {
    "colab": {
     "base_uri": "https://localhost:8080/",
     "height": 602
    },
    "id": "4jch3pHHNGEs",
    "outputId": "2ead0ef9-072c-4e1e-d333-b7528dfaac70",
    "pycharm": {
     "is_executing": false
    }
   },
   "outputs": [
    {
     "name": "stderr",
     "output_type": "stream",
     "text": [
      "No handles with labels found to put in legend.\n"
     ]
    },
    {
     "data": {
      "image/png": "[encoded data removed]",
      "text/plain": [
       "<Figure size 576x576 with 1 Axes>"
      ]
     },
     "metadata": {
      "needs_background": "light"
     },
     "output_type": "display_data"
    }
   ],
   "source": [
    "colors = np.array(['r', 'g', 'b', 'm', 'c', 'k', 'y', 'purple', 'darkred', 'navy'])\r\n",
    "colors_test = colors[label_list]\r\n",
    "\r\n",
    "fig = plt.figure(figsize=(8, 8))\r\n",
    "plt.scatter(code_vector_list[:, 0], code_vector_list[:, 1], s=10, c=colors_test, edgecolors=colors_test)\r\n",
    "plt.axis('off')\r\n",
    "plt.tight_layout()\r\n",
    "plt.legend(bbox_to_anchor=(1.05, 1), loc=2, borderaxespad=0.)\r\n",
    "fname = 'ae_code.pdf'\r\n",
    "plt.savefig(fname)"
   ]
  },
  {
   "cell_type": "markdown",
   "metadata": {
    "id": "TraHcAlRNGEw"
   },
   "source": [
    "#### Remark:\n",
    "\n",
    "Judging from the visualization, the low-dim features seems not discriminative, as 2D features from different classes are mixed. Let quantatively find out whether they are discriminative."
   ]
  },
  {
   "cell_type": "markdown",
   "metadata": {
    "id": "nV_BwCfZNGEx"
   },
   "source": [
    "## 3. Are the learned low-dim features discriminative?\n",
    "\n",
    "To find the answer, lets train a classifier on the training set (the extracted 2-dim features) and evaluation on the test set."
   ]
  },
  {
   "cell_type": "code",
   "execution_count": 11,
   "metadata": {
    "id": "0Gfv0EvkZf7N",
    "pycharm": {
     "is_executing": false
    }
   },
   "outputs": [],
   "source": [
    "classifier = nn.Sequential(\n",
    "                nn.Linear(2, 64),\n",
    "                nn.ReLU(True),\n",
    "                nn.Linear(64, 128),\n",
    "                nn.ReLU(True),\n",
    "                nn.Linear(128, 10)).cuda()"
   ]
  },
  {
   "cell_type": "code",
   "execution_count": 12,
   "metadata": {
    "id": "twWX_37_bImH",
    "pycharm": {
     "is_executing": false
    }
   },
   "outputs": [],
   "source": [
    "classifier_criterion = nn.CrossEntropyLoss()\n",
    "classifier_optimizer = torch.optim.Adam(\n",
    "    classifier.parameters(), lr=learning_rate)"
   ]
  },
  {
   "cell_type": "code",
   "execution_count": 13,
   "metadata": {
    "colab": {
     "base_uri": "https://localhost:8080/"
    },
    "id": "w-QlxQUQbzKI",
    "outputId": "1eb73852-8c3e-475a-c3d6-1d66c00757c8",
    "pycharm": {
     "is_executing": false
    }
   },
   "outputs": [
    {
     "name": "stdout",
     "output_type": "stream",
     "text": [
      "Train loss 1: 1.1024558679008485,Train Acc:59.916%\n",
      "Val accuracy:61.51%\n",
      "Train loss 2: 1.030738019809723,Train Acc:62.29%\n",
      "Val accuracy:62.74%\n",
      "Train loss 3: 1.0246468207550048,Train Acc:62.642%\n",
      "Val accuracy:62.77%\n",
      "Train loss 4: 1.0161858181381225,Train Acc:62.936%\n",
      "Val accuracy:62.82%\n",
      "Train loss 5: 1.009375277671814,Train Acc:63.038%\n",
      "Val accuracy:62.73%\n"
     ]
    }
   ],
   "source": [
    "for epoch in range(epochs):\n",
    "    classifier.train()\n",
    "    running_loss = 0.0\n",
    "    running_acc = 0\n",
    "    for img, y in train_loader:\n",
    "        img = img.view(img.size(0), -1)\n",
    "        img, y = img.cuda(), y.cuda()\n",
    "        # ===================forward=====================\n",
    "        code_vector = ae.encoder(img)\n",
    "        y_hat = classifier(code_vector)\n",
    "        loss = classifier_criterion(y_hat, y)\n",
    "        # ===================backward====================\n",
    "        classifier_optimizer.zero_grad()\n",
    "        loss.backward()\n",
    "        classifier_optimizer.step()\n",
    "\n",
    "        # print statistics\n",
    "        running_loss += loss.item() * img.size(0)\n",
    "        out = torch.argmax(y_hat.detach(),dim=1)\n",
    "        assert out.shape==y.shape\n",
    "        running_acc += (y==out).sum().item()\n",
    "    print(f\"Train loss {epoch+1}: {running_loss/len(train_dataset)},Train Acc:{running_acc*100/len(train_dataset)}%\")\n",
    "\n",
    "    correct = 0\n",
    "    classifier.eval()\n",
    "    with torch.no_grad():\n",
    "        for img, y in val_loader:\n",
    "            img = img.view(img.size(0), -1)\n",
    "            img, y = img.cuda(), y.cuda()\n",
    "            code_vector = ae.encoder(img)\n",
    "            y_hat = classifier(code_vector)\n",
    "            y_hat = torch.argmax(y_hat, dim=1)\n",
    "            acc = (y_hat==y).sum().item()\n",
    "            correct += acc\n",
    "    print(f\"Val accuracy:{correct*100/len(val_dataset)}%\")\n",
    "    # if correct>best_val_acc:\n",
    "    #     best_val_acc = correct\n",
    "    #     best_val_model = deepcopy(classifier.state_dict())"
   ]
  },
  {
   "cell_type": "markdown",
   "metadata": {
    "id": "vYlT_J7BNGE8"
   },
   "source": [
    "### Conclusion\n",
    "\n",
    "Using the 2D features, the validation accuracy is around 60%. Recall that using the original data, the accuracy is about 98%. Obviously, the 2D features are not very discriminative.\n",
    "\n",
    "We are going to build a supervised autoencode model for learning low-dimensional discriminative features."
   ]
  },
  {
   "cell_type": "markdown",
   "metadata": {
    "id": "B_OgCclANGFC"
   },
   "source": [
    "## 4. Build a supervised autoencoder model\n",
    "\n",
    "\n",
    "**You are required to build and train a supervised autoencoder look like the following.** (Not necessary the same.) You are required to add other layers properly to alleviate overfitting.\n",
    "\n",
    "\n",
    "![Network Structure](https://github.com/wangshusen/CS583A-2019Spring/blob/master/homework/HM5/supervised_ae.png?raw=true \"NetworkStructure\")\n"
   ]
  },
  {
   "cell_type": "markdown",
   "metadata": {
    "id": "6WvSdppdNGFD"
   },
   "source": [
    "### 4.1. Build the supervised autoencoder network\n",
    "\n",
    "The new model has multiple output. Thus we specify **multiple** loss functions and their weights."
   ]
  },
  {
   "cell_type": "code",
   "execution_count": 14,
   "metadata": {
    "id": "yWKbdK7JTsGg",
    "pycharm": {
     "is_executing": false
    }
   },
   "outputs": [],
   "source": [
    "## your code here\n",
    "\n",
    "class supervise_autoencoder(nn.Module):\n",
    "    def __init__(self):\n",
    "        super(supervise_autoencoder, self).__init__()\n",
    "        self.encoder = nn.Sequential(\n",
    "            nn.Linear(28 * 28, 128),\n",
    "            nn.ReLU(True),\n",
    "            nn.Linear(128, 64),\n",
    "            nn.ReLU(True), \n",
    "            nn.Linear(64, 32), \n",
    "            nn.ReLU(True), \n",
    "            nn.Linear(32, 2)\n",
    "        )\n",
    "        \n",
    "        self.decoder = nn.Sequential(\n",
    "            nn.Linear(2, 32),\n",
    "            nn.ReLU(True),\n",
    "            nn.Linear(32, 64),\n",
    "            nn.ReLU(True),\n",
    "            nn.Linear(64, 128),\n",
    "            nn.ReLU(True), \n",
    "            nn.Linear(128, 28 * 28), \n",
    "            nn.Tanh()\n",
    "        )\n",
    "        \n",
    "        self.classifier = nn.Sequential(\n",
    "            nn.Linear(2, 32),\n",
    "            nn.ReLU(True),\n",
    "            nn.Linear(32, 64),\n",
    "            nn.ReLU(True),\n",
    "            nn.Linear(64, 10)\n",
    "        )\n",
    "\n",
    "\n",
    "    def forward(self, x):\n",
    "        x_1 = x\n",
    "        x_2 = x\n",
    "        y = self.encoder(x_1)\n",
    "        y = self.decoder(y)\n",
    "        \n",
    "        z = self.encoder(x_2)\n",
    "        z = self.classifier(z)\n",
    "        \n",
    "        return z, y\n"
   ]
  },
  {
   "cell_type": "code",
   "execution_count": 15,
   "metadata": {
    "id": "sDWbo50oUocZ",
    "pycharm": {
     "is_executing": false
    }
   },
   "outputs": [],
   "source": [
    "sae = supervise_autoencoder().cuda()\n",
    "sae_optimizer = torch.optim.Adam(sae.parameters(), lr=learning_rate)\n",
    "# summary(sae, input_size=(28*28,))"
   ]
  },
  {
   "cell_type": "code",
   "execution_count": 16,
   "metadata": {
    "id": "g7-VniBrNGFG",
    "pycharm": {
     "is_executing": false
    }
   },
   "outputs": [],
   "source": [
    "## loss functions \r\n",
    "sae_criterion_1 = nn.CrossEntropyLoss()\r\n",
    "sae_criterion_2 = nn.MSELoss()\r\n",
    "\r\n"
   ]
  },
  {
   "cell_type": "markdown",
   "metadata": {
    "id": "9ON9qCaONGFM"
   },
   "source": [
    "### 4.2. Train the new model and tune the hyper-parameters based on the performance on the validation set\n",
    "\n",
    " "
   ]
  },
  {
   "cell_type": "code",
   "execution_count": 17,
   "metadata": {
    "id": "BaMP59RdNGFM",
    "pycharm": {
     "is_executing": false
    }
   },
   "outputs": [
    {
     "name": "stderr",
     "output_type": "stream",
     "text": [
      "C:\\Users\\Tyler\\Anaconda3\\envs\\DataScience\\lib\\site-packages\\numpy\\core\\fromnumeric.py:3373: RuntimeWarning: Mean of empty slice.\n",
      "  out=out, **kwargs)\n",
      "C:\\Users\\Tyler\\Anaconda3\\envs\\DataScience\\lib\\site-packages\\numpy\\core\\_methods.py:170: RuntimeWarning: invalid value encountered in double_scalars\n",
      "  ret = ret.dtype.type(ret / rcount)\n"
     ]
    },
    {
     "name": "stdout",
     "output_type": "stream",
     "text": [
      "epoch [1/10], train loss decode:0.720517832595171, train loss classifier: 0.21612125809613666, train accuracy: 77.972, val loss:0.18245653361082076, val accuracy 88.09\n",
      "epoch [2/10], train loss decode:0.5076199591574536, train loss classifier: 0.20829787263104493, train accuracy: 86.59, val loss:0.18245653361082076, val accuracy 85.5\n",
      "epoch [3/10], train loss decode:0.5083413764772435, train loss classifier: 0.2088016476279562, train accuracy: 86.412, val loss:0.18245653361082076, val accuracy 87.14\n",
      "epoch [4/10], train loss decode:0.4642206121924895, train loss classifier: 0.2088642655010797, train accuracy: 87.64, val loss:0.18245653361082076, val accuracy 86.6\n",
      "epoch [5/10], train loss decode:0.5680068527811319, train loss classifier: 0.21157617869853057, train accuracy: 83.792, val loss:0.18245653361082076, val accuracy 85.91\n",
      "epoch [6/10], train loss decode:0.5086087697910733, train loss classifier: 0.20932955389707728, train accuracy: 86.254, val loss:0.18245653361082076, val accuracy 79.36\n",
      "epoch [7/10], train loss decode:0.4665818947628951, train loss classifier: 0.21266060405942924, train accuracy: 87.48, val loss:0.18245653361082076, val accuracy 89.66\n",
      "epoch [8/10], train loss decode:0.5043289809346542, train loss classifier: 0.2168484927558472, train accuracy: 85.724, val loss:0.18245653361082076, val accuracy 76.35\n",
      "epoch [9/10], train loss decode:0.5100328246070762, train loss classifier: 0.2156900622985032, train accuracy: 85.668, val loss:0.18245653361082076, val accuracy 88.36\n",
      "epoch [10/10], train loss decode:0.47276148253662115, train loss classifier: 0.21901864251950118, train accuracy: 87.132, val loss:0.18245653361082076, val accuracy 87.83\n"
     ]
    }
   ],
   "source": [
    "# train the model here\r\n",
    "# your code here\r\n",
    "\r\n",
    "epochs = 10\r\n",
    "\r\n",
    "train_loss_1 = []\r\n",
    "train_loss_2 = []\r\n",
    "val_loss_1 = []\r\n",
    "val_loss_2 = []\r\n",
    "train_acc = []\r\n",
    "val_acc = []\r\n",
    "\r\n",
    "for epoch in range(epochs):\r\n",
    "    sae.train()\r\n",
    "    batch_loss_1 = []\r\n",
    "    batch_loss_2 = []\r\n",
    "    train_accuracy = 0\r\n",
    "    for img, y in train_loader:\r\n",
    "        img, y = img.cuda(), y.cuda()\r\n",
    "        img = img.view(img.size(0), -1)\r\n",
    "        img = Variable(img).cuda()\r\n",
    "        \r\n",
    "        output_1, output_2 = sae(img)\r\n",
    "        loss_1 = sae_criterion_1(output_1, y)\r\n",
    "        loss_2 = sae_criterion_2(output_2, img)\r\n",
    "        \r\n",
    "        sae_optimizer.zero_grad()\r\n",
    "        loss_1.backward()\r\n",
    "        loss_2.backward()\r\n",
    "        sae_optimizer.step()\r\n",
    "        \r\n",
    "        batch_loss_1.append(loss_1.item())\r\n",
    "        batch_loss_2.append(loss_2.item())\r\n",
    "        out = torch.argmax(output_1.detach(), dim=1)\r\n",
    "        assert out.shape==y.shape\r\n",
    "        train_accuracy += (y==out).sum().item()\r\n",
    "        \r\n",
    "        \r\n",
    "        \r\n",
    "    train_acc.append(train_accuracy * 100 / 50000)\r\n",
    "    train_loss_1.append(np.mean(batch_loss_1))\r\n",
    "    train_loss_2.append(np.mean(batch_loss_2))\r\n",
    "    val_accuracy = 0\r\n",
    "    sae.eval()\r\n",
    "    batch_loss_1 = []\r\n",
    "    batch_loss_2 = []\r\n",
    "    with torch.no_grad():\r\n",
    "        for img, y in val_loader:\r\n",
    "            img = img.view(img.size(0), -1)\r\n",
    "            img, y = img.cuda(), y.cuda()\r\n",
    "            output_1, output_2 = sae(img)\r\n",
    "            loss_1 = sae_criterion_1(output_1, y)\r\n",
    "            loss_2 = sae_criterion_2(output_2, img)\r\n",
    "            out = torch.argmax(output_1.detach(), dim=1)\r\n",
    "            assert out.shape==y.shape\r\n",
    "            val_accuracy += (y==out).sum().item()\r\n",
    "        val_loss_1.append(np.mean(batch_loss_1))\r\n",
    "        val_loss_2.append(np.mean(batch_loss_2))\r\n",
    "        val_acc.append(val_accuracy * 100 / 10000)\r\n",
    "        print('epoch [{}/{}], train loss decode:{}, train loss classifier: {}, train accuracy: {}, val loss:{}, val accuracy {}'\r\n",
    "              .format(epoch + 1, epochs, train_loss_1[-1], train_loss_2[-1], train_acc[-1], val_loss[-1], val_acc[-1]))\r\n",
    "            \r\n",
    "\r\n"
   ]
  },
  {
   "cell_type": "code",
   "execution_count": 18,
   "metadata": {
    "id": "4W8VCq6JNGFQ",
    "pycharm": {
     "is_executing": false
    }
   },
   "outputs": [
    {
     "data": {
      "image/png": "[encoded data removed]",
      "text/plain": [
       "<Figure size 432x288 with 1 Axes>"
      ]
     },
     "metadata": {
      "needs_background": "light"
     },
     "output_type": "display_data"
    }
   ],
   "source": [
    "# visualize training metrics\r\n",
    "# your code here\r\n",
    "\r\n",
    "import matplotlib.pyplot as plt\r\n",
    "%matplotlib inline\r\n",
    "\r\n",
    "epochs_list = range(len(train_acc))\r\n",
    "\r\n",
    "plt.plot(epochs_list, train_acc, 'bo', label='Training Accuracy')\r\n",
    "plt.plot(epochs_list, val_acc, 'r', label='Validation Accuracy')\r\n",
    "plt.xlabel('Epochs')\r\n",
    "plt.ylabel('Accuracy')\r\n",
    "plt.legend()\r\n",
    "plt.show()"
   ]
  },
  {
   "cell_type": "markdown",
   "metadata": {
    "id": "Utt0dEKuNGFT"
   },
   "source": [
    "### Question\n",
    "\n",
    "Do you think overfitting is happening? If yes, what can you do? Please make necessary changes to the supervised autoencoder network structure."
   ]
  },
  {
   "cell_type": "markdown",
   "metadata": {
    "id": "cWvnrVwzNGFY"
   },
   "source": [
    "### 4.3. Visualize the low-dimensional features"
   ]
  },
  {
   "cell_type": "code",
   "execution_count": 19,
   "metadata": {
    "id": "1aa5k_NTNGFY",
    "pycharm": {
     "is_executing": false
    }
   },
   "outputs": [],
   "source": [
    "# visualize the features\r\n",
    "# your code here\r\n",
    "\r\n",
    "sae.eval()\r\n",
    "code_vector_list = None\r\n",
    "label_list = []\r\n",
    "for i, (data, labels) in enumerate(test_loader):\r\n",
    "    data = Variable(data).cuda()\r\n",
    "    code_vector = sae.encoder(data.view(-1, 28*28))\r\n",
    "\r\n",
    "    if i == 0:\r\n",
    "        code_vector_list = code_vector\r\n",
    "        label_list = labels\r\n",
    "    else:\r\n",
    "        code_vector_list = torch.cat((code_vector_list, code_vector), 0)\r\n",
    "        label_list = torch.cat((label_list, labels), 0)\r\n",
    "\r\n",
    "code_vector_list = code_vector_list.data.cpu().numpy()[:1000]\r\n",
    "label_list = label_list.cpu().numpy()[:1000]"
   ]
  },
  {
   "cell_type": "code",
   "execution_count": 20,
   "metadata": {
    "id": "5nRSKcCSNGFb",
    "pycharm": {
     "is_executing": false
    },
    "scrolled": true
   },
   "outputs": [
    {
     "name": "stderr",
     "output_type": "stream",
     "text": [
      "No handles with labels found to put in legend.\n"
     ]
    },
    {
     "data": {
      "image/png": "[encoded data removed]",
      "text/plain": [
       "<Figure size 576x576 with 1 Axes>"
      ]
     },
     "metadata": {
      "needs_background": "light"
     },
     "output_type": "display_data"
    }
   ],
   "source": [
    "colors = np.array(['r', 'g', 'b', 'm', 'c', 'k', 'y', 'purple', 'darkred', 'navy'])\r\n",
    "colors_test = colors[label_list]\r\n",
    "\r\n",
    "fig = plt.figure(figsize=(8, 8))\r\n",
    "plt.scatter(code_vector_list[:, 0], code_vector_list[:, 1], s=10, c=colors_test, edgecolors=colors_test)\r\n",
    "plt.axis('off')\r\n",
    "plt.tight_layout()\r\n",
    "plt.legend(bbox_to_anchor=(1.05, 1), loc=2, borderaxespad=0.0)\r\n",
    "fname = 'sae_code.pdf'\r\n",
    "plt.savefig(fname)"
   ]
  },
  {
   "cell_type": "markdown",
   "metadata": {
    "id": "Dk5uTqaJNGFe"
   },
   "source": [
    "### 4.4. Are the learned low-dim features discriminative?\n",
    "\n",
    "To find the answer, lets train a classifier on the training set (the extracted 2-dim features) and evaluation on the validation and test set.\n"
   ]
  },
  {
   "cell_type": "code",
   "execution_count": 21,
   "metadata": {
    "id": "-i-BBAaYNGFf",
    "pycharm": {
     "is_executing": false
    }
   },
   "outputs": [],
   "source": [
    "# build a classifier which takes the 2D features from supervised autoencoder as input\n",
    "# your code here\n",
    "\n",
    "classifier = nn.Sequential(\n",
    "                nn.Linear(2, 32),\n",
    "                nn.ReLU(True),\n",
    "                nn.Linear(32, 64),\n",
    "                nn.ReLU(True),\n",
    "                nn.Linear(64, 10)).cuda()"
   ]
  },
  {
   "cell_type": "code",
   "execution_count": 22,
   "metadata": {
    "collapsed": false,
    "pycharm": {
     "is_executing": false,
     "name": "#%%\n"
    }
   },
   "outputs": [],
   "source": [
    "classifier_criterion = nn.CrossEntropyLoss()\n",
    "classifier_optimizer = torch.optim.Adam(\n",
    "    classifier.parameters(), lr=learning_rate)"
   ]
  },
  {
   "cell_type": "code",
   "execution_count": 23,
   "metadata": {
    "id": "PfWJsDHONGFh",
    "pycharm": {
     "is_executing": false
    }
   },
   "outputs": [
    {
     "name": "stdout",
     "output_type": "stream",
     "text": [
      "Train loss 1: 0.4826481985855103,Train Acc:87.876%\n",
      "Val accuracy:88.61%\n",
      "Train loss 2: 0.41648604333639144,Train Acc:88.538%\n",
      "Val accuracy:88.45%\n",
      "Train loss 3: 0.413257993991375,Train Acc:88.556%\n",
      "Val accuracy:88.73%\n",
      "Train loss 4: 0.41211842387199404,Train Acc:88.502%\n",
      "Val accuracy:88.26%\n",
      "Train loss 5: 0.41024949073791506,Train Acc:88.68%\n",
      "Val accuracy:88.71%\n",
      "Train loss 6: 0.40827395336389544,Train Acc:88.61%\n",
      "Val accuracy:88.67%\n",
      "Train loss 7: 0.4157996887898445,Train Acc:88.366%\n",
      "Val accuracy:88.92%\n",
      "Train loss 8: 0.40658603645920754,Train Acc:88.586%\n",
      "Val accuracy:88.45%\n",
      "Train loss 9: 0.40407551672458647,Train Acc:88.726%\n",
      "Val accuracy:88.63%\n",
      "Train loss 10: 0.4054729336643219,Train Acc:88.612%\n",
      "Val accuracy:88.11%\n"
     ]
    }
   ],
   "source": [
    "for epoch in range(epochs):\n",
    "    classifier.train()\n",
    "    running_loss = 0.0\n",
    "    running_acc = 0\n",
    "    for img, y in train_loader:\n",
    "        img = img.view(img.size(0), -1)\n",
    "        img, y = img.cuda(), y.cuda()\n",
    "        # ===================forward=====================\n",
    "        code_vector = sae.encoder(img)\n",
    "        y_hat = classifier(code_vector)\n",
    "        loss = classifier_criterion(y_hat, y)\n",
    "        # ===================backward====================\n",
    "        classifier_optimizer.zero_grad()\n",
    "        loss.backward()\n",
    "        classifier_optimizer.step()\n",
    "\n",
    "        # print statistics\n",
    "        running_loss += loss.item() * img.size(0)\n",
    "        out = torch.argmax(y_hat.detach(),dim=1)\n",
    "        assert out.shape==y.shape\n",
    "        running_acc += (y==out).sum().item()\n",
    "    print(f\"Train loss {epoch+1}: {running_loss/len(train_dataset)},Train Acc:{running_acc*100/len(train_dataset)}%\")\n",
    "\n",
    "    correct = 0\n",
    "    classifier.eval()\n",
    "    with torch.no_grad():\n",
    "        for img, y in val_loader:\n",
    "            img = img.view(img.size(0), -1)\n",
    "            img, y = img.cuda(), y.cuda()\n",
    "            code_vector = sae.encoder(img)\n",
    "            y_hat = classifier(code_vector)\n",
    "            y_hat = torch.argmax(y_hat, dim=1)\n",
    "            acc = (y_hat==y).sum().item()\n",
    "            correct += acc\n",
    "    print(f\"Val accuracy:{correct*100/len(val_dataset)}%\")"
   ]
  },
  {
   "cell_type": "markdown",
   "metadata": {
    "id": "gIn6FKJzNGFm"
   },
   "source": [
    "#### Remark:\n",
    "\n",
    "The validation accuracy must be above 85%. It means the low-dim features learned by the supervised autoencoder are very effective."
   ]
  },
  {
   "cell_type": "code",
   "execution_count": 24,
   "metadata": {
    "id": "92v5LK-XNGFn",
    "pycharm": {
     "is_executing": false
    }
   },
   "outputs": [
    {
     "name": "stdout",
     "output_type": "stream",
     "text": [
      "Test accuracy:89.08%\n"
     ]
    }
   ],
   "source": [
    "# evaluate your model on the never-seen-before test data\r\n",
    "# your code here\r\n",
    "\r\n",
    "correct = 0\r\n",
    "classifier.eval()\r\n",
    "with torch.no_grad():\r\n",
    "    for img, y in test_loader:\r\n",
    "            img = img.view(img.size(0), -1)\r\n",
    "            img, y = img.cuda(), y.cuda()\r\n",
    "            code_vector = sae.encoder(img)\r\n",
    "            y_hat = classifier(code_vector)\r\n",
    "            y_hat = torch.argmax(y_hat, dim=1)\r\n",
    "            acc = (y_hat==y).sum().item()\r\n",
    "            correct += acc\r\n",
    "    print(f\"Test accuracy:{correct*100/len(val_dataset)}%\")"
   ]
  }
 ],
 "metadata": {
  "accelerator": "GPU",
  "colab": {
   "collapsed_sections": [],
   "name": "HW5_SAE.ipynb",
   "provenance": []
  },
  "interpreter": {
   "hash": "b83dc139c99643331af52ac822a32865de90d624539b40885aec1f264ad4051d"
  },
  "kernelspec": {
   "display_name": "Python 3.8.0 64-bit",
   "name": "python3"
  },
  "language_info": {
   "name": "python",
   "version": ""
  },
  "pycharm": {
   "stem_cell": {
    "cell_type": "raw",
    "metadata": {
     "collapsed": false
    },
    "source": []
   }
  },
  "widgets": {
   "application/vnd.jupyter.widget-state+json": {
    "089ef6a3bff345b0a8bc08cd314c9c9e": {
     "model_module": "@jupyter-widgets/controls",
     "model_name": "HBoxModel",
     "state": {
      "_dom_classes": [],
      "_model_module": "@jupyter-widgets/controls",
      "_model_module_version": "1.5.0",
      "_model_name": "HBoxModel",
      "_view_count": null,
      "_view_module": "@jupyter-widgets/controls",
      "_view_module_version": "1.5.0",
      "_view_name": "HBoxView",
      "box_style": "",
      "children": [
       "IPY_MODEL_a369bed1e0db4f1c8ba333c6fd2193db",
       "IPY_MODEL_24a575fdb3b54e8597e5d46dc4928ee9"
      ],
      "layout": "IPY_MODEL_67c132063094410d8a56d1b798dd8b51"
     }
    },
    "1062595a99824361b23b3e63913107ed": {
     "model_module": "@jupyter-widgets/base",
     "model_name": "LayoutModel",
     "state": {
      "_model_module": "@jupyter-widgets/base",
      "_model_module_version": "1.2.0",
      "_model_name": "LayoutModel",
      "_view_count": null,
      "_view_module": "@jupyter-widgets/base",
      "_view_module_version": "1.2.0",
      "_view_name": "LayoutView",
      "align_content": null,
      "align_items": null,
      "align_self": null,
      "border": null,
      "bottom": null,
      "display": null,
      "flex": null,
      "flex_flow": null,
      "grid_area": null,
      "grid_auto_columns": null,
      "grid_auto_flow": null,
      "grid_auto_rows": null,
      "grid_column": null,
      "grid_gap": null,
      "grid_row": null,
      "grid_template_areas": null,
      "grid_template_columns": null,
      "grid_template_rows": null,
      "height": null,
      "justify_content": null,
      "justify_items": null,
      "left": null,
      "margin": null,
      "max_height": null,
      "max_width": null,
      "min_height": null,
      "min_width": null,
      "object_fit": null,
      "object_position": null,
      "order": null,
      "overflow": null,
      "overflow_x": null,
      "overflow_y": null,
      "padding": null,
      "right": null,
      "top": null,
      "visibility": null,
      "width": null
     }
    },
    "24a575fdb3b54e8597e5d46dc4928ee9": {
     "model_module": "@jupyter-widgets/controls",
     "model_name": "HTMLModel",
     "state": {
      "_dom_classes": [],
      "_model_module": "@jupyter-widgets/controls",
      "_model_module_version": "1.5.0",
      "_model_name": "HTMLModel",
      "_view_count": null,
      "_view_module": "@jupyter-widgets/controls",
      "_view_module_version": "1.5.0",
      "_view_name": "HTMLView",
      "description": "",
      "description_tooltip": null,
      "layout": "IPY_MODEL_e20925ae5a9e4c37990ac1b2c9faaadd",
      "placeholder": "​",
      "style": "IPY_MODEL_3f2c82702fe34421a2163586494e8ebb",
      "value": " 0/28881 [00:00&lt;?, ?it/s]"
     }
    },
    "3f2c82702fe34421a2163586494e8ebb": {
     "model_module": "@jupyter-widgets/controls",
     "model_name": "DescriptionStyleModel",
     "state": {
      "_model_module": "@jupyter-widgets/controls",
      "_model_module_version": "1.5.0",
      "_model_name": "DescriptionStyleModel",
      "_view_count": null,
      "_view_module": "@jupyter-widgets/base",
      "_view_module_version": "1.2.0",
      "_view_name": "StyleView",
      "description_width": ""
     }
    },
    "48ebe5b670c441cc8f823bf595ced033": {
     "model_module": "@jupyter-widgets/base",
     "model_name": "LayoutModel",
     "state": {
      "_model_module": "@jupyter-widgets/base",
      "_model_module_version": "1.2.0",
      "_model_name": "LayoutModel",
      "_view_count": null,
      "_view_module": "@jupyter-widgets/base",
      "_view_module_version": "1.2.0",
      "_view_name": "LayoutView",
      "align_content": null,
      "align_items": null,
      "align_self": null,
      "border": null,
      "bottom": null,
      "display": null,
      "flex": null,
      "flex_flow": null,
      "grid_area": null,
      "grid_auto_columns": null,
      "grid_auto_flow": null,
      "grid_auto_rows": null,
      "grid_column": null,
      "grid_gap": null,
      "grid_row": null,
      "grid_template_areas": null,
      "grid_template_columns": null,
      "grid_template_rows": null,
      "height": null,
      "justify_content": null,
      "justify_items": null,
      "left": null,
      "margin": null,
      "max_height": null,
      "max_width": null,
      "min_height": null,
      "min_width": null,
      "object_fit": null,
      "object_position": null,
      "order": null,
      "overflow": null,
      "overflow_x": null,
      "overflow_y": null,
      "padding": null,
      "right": null,
      "top": null,
      "visibility": null,
      "width": null
     }
    },
    "5b99e33da7064b2797983ccb5e3cb18d": {
     "model_module": "@jupyter-widgets/controls",
     "model_name": "DescriptionStyleModel",
     "state": {
      "_model_module": "@jupyter-widgets/controls",
      "_model_module_version": "1.5.0",
      "_model_name": "DescriptionStyleModel",
      "_view_count": null,
      "_view_module": "@jupyter-widgets/base",
      "_view_module_version": "1.2.0",
      "_view_name": "StyleView",
      "description_width": ""
     }
    },
    "6189e543d89d4ec8941a9d14520976b7": {
     "model_module": "@jupyter-widgets/controls",
     "model_name": "HBoxModel",
     "state": {
      "_dom_classes": [],
      "_model_module": "@jupyter-widgets/controls",
      "_model_module_version": "1.5.0",
      "_model_name": "HBoxModel",
      "_view_count": null,
      "_view_module": "@jupyter-widgets/controls",
      "_view_module_version": "1.5.0",
      "_view_name": "HBoxView",
      "box_style": "",
      "children": [
       "IPY_MODEL_e103a168185643fcb79c22bd253b9ec2",
       "IPY_MODEL_8ebe35e0e9344b07852b282f905cb59c"
      ],
      "layout": "IPY_MODEL_1062595a99824361b23b3e63913107ed"
     }
    },
    "630c707d96b74d4b94bf291a29b7d1f6": {
     "model_module": "@jupyter-widgets/controls",
     "model_name": "DescriptionStyleModel",
     "state": {
      "_model_module": "@jupyter-widgets/controls",
      "_model_module_version": "1.5.0",
      "_model_name": "DescriptionStyleModel",
      "_view_count": null,
      "_view_module": "@jupyter-widgets/base",
      "_view_module_version": "1.2.0",
      "_view_name": "StyleView",
      "description_width": ""
     }
    },
    "679e318a941342a2b0e391fe0cc2b6d5": {
     "model_module": "@jupyter-widgets/base",
     "model_name": "LayoutModel",
     "state": {
      "_model_module": "@jupyter-widgets/base",
      "_model_module_version": "1.2.0",
      "_model_name": "LayoutModel",
      "_view_count": null,
      "_view_module": "@jupyter-widgets/base",
      "_view_module_version": "1.2.0",
      "_view_name": "LayoutView",
      "align_content": null,
      "align_items": null,
      "align_self": null,
      "border": null,
      "bottom": null,
      "display": null,
      "flex": null,
      "flex_flow": null,
      "grid_area": null,
      "grid_auto_columns": null,
      "grid_auto_flow": null,
      "grid_auto_rows": null,
      "grid_column": null,
      "grid_gap": null,
      "grid_row": null,
      "grid_template_areas": null,
      "grid_template_columns": null,
      "grid_template_rows": null,
      "height": null,
      "justify_content": null,
      "justify_items": null,
      "left": null,
      "margin": null,
      "max_height": null,
      "max_width": null,
      "min_height": null,
      "min_width": null,
      "object_fit": null,
      "object_position": null,
      "order": null,
      "overflow": null,
      "overflow_x": null,
      "overflow_y": null,
      "padding": null,
      "right": null,
      "top": null,
      "visibility": null,
      "width": null
     }
    },
    "67c132063094410d8a56d1b798dd8b51": {
     "model_module": "@jupyter-widgets/base",
     "model_name": "LayoutModel",
     "state": {
      "_model_module": "@jupyter-widgets/base",
      "_model_module_version": "1.2.0",
      "_model_name": "LayoutModel",
      "_view_count": null,
      "_view_module": "@jupyter-widgets/base",
      "_view_module_version": "1.2.0",
      "_view_name": "LayoutView",
      "align_content": null,
      "align_items": null,
      "align_self": null,
      "border": null,
      "bottom": null,
      "display": null,
      "flex": null,
      "flex_flow": null,
      "grid_area": null,
      "grid_auto_columns": null,
      "grid_auto_flow": null,
      "grid_auto_rows": null,
      "grid_column": null,
      "grid_gap": null,
      "grid_row": null,
      "grid_template_areas": null,
      "grid_template_columns": null,
      "grid_template_rows": null,
      "height": null,
      "justify_content": null,
      "justify_items": null,
      "left": null,
      "margin": null,
      "max_height": null,
      "max_width": null,
      "min_height": null,
      "min_width": null,
      "object_fit": null,
      "object_position": null,
      "order": null,
      "overflow": null,
      "overflow_x": null,
      "overflow_y": null,
      "padding": null,
      "right": null,
      "top": null,
      "visibility": null,
      "width": null
     }
    },
    "7df1cec482f140f998bbeb474f15fca4": {
     "model_module": "@jupyter-widgets/base",
     "model_name": "LayoutModel",
     "state": {
      "_model_module": "@jupyter-widgets/base",
      "_model_module_version": "1.2.0",
      "_model_name": "LayoutModel",
      "_view_count": null,
      "_view_module": "@jupyter-widgets/base",
      "_view_module_version": "1.2.0",
      "_view_name": "LayoutView",
      "align_content": null,
      "align_items": null,
      "align_self": null,
      "border": null,
      "bottom": null,
      "display": null,
      "flex": null,
      "flex_flow": null,
      "grid_area": null,
      "grid_auto_columns": null,
      "grid_auto_flow": null,
      "grid_auto_rows": null,
      "grid_column": null,
      "grid_gap": null,
      "grid_row": null,
      "grid_template_areas": null,
      "grid_template_columns": null,
      "grid_template_rows": null,
      "height": null,
      "justify_content": null,
      "justify_items": null,
      "left": null,
      "margin": null,
      "max_height": null,
      "max_width": null,
      "min_height": null,
      "min_width": null,
      "object_fit": null,
      "object_position": null,
      "order": null,
      "overflow": null,
      "overflow_x": null,
      "overflow_y": null,
      "padding": null,
      "right": null,
      "top": null,
      "visibility": null,
      "width": null
     }
    },
    "8428577da41e4c03bddf80d0810572bc": {
     "model_module": "@jupyter-widgets/controls",
     "model_name": "HBoxModel",
     "state": {
      "_dom_classes": [],
      "_model_module": "@jupyter-widgets/controls",
      "_model_module_version": "1.5.0",
      "_model_name": "HBoxModel",
      "_view_count": null,
      "_view_module": "@jupyter-widgets/controls",
      "_view_module_version": "1.5.0",
      "_view_name": "HBoxView",
      "box_style": "",
      "children": [
       "IPY_MODEL_86518586b355409989b024452e8f1cc9",
       "IPY_MODEL_de0384b667f1437aabc5efd33a43179d"
      ],
      "layout": "IPY_MODEL_e8440e5e6ff247b58d438753bc74eba3"
     }
    },
    "86518586b355409989b024452e8f1cc9": {
     "model_module": "@jupyter-widgets/controls",
     "model_name": "FloatProgressModel",
     "state": {
      "_dom_classes": [],
      "_model_module": "@jupyter-widgets/controls",
      "_model_module_version": "1.5.0",
      "_model_name": "FloatProgressModel",
      "_view_count": null,
      "_view_module": "@jupyter-widgets/controls",
      "_view_module_version": "1.5.0",
      "_view_name": "ProgressView",
      "bar_style": "success",
      "description": "",
      "description_tooltip": null,
      "layout": "IPY_MODEL_94ca113b48284338ab6fea463e066060",
      "max": 1,
      "min": 0,
      "orientation": "horizontal",
      "style": "IPY_MODEL_c0776fdf4d4e45d590f46af37ebb5124",
      "value": 1
     }
    },
    "8ebe35e0e9344b07852b282f905cb59c": {
     "model_module": "@jupyter-widgets/controls",
     "model_name": "HTMLModel",
     "state": {
      "_dom_classes": [],
      "_model_module": "@jupyter-widgets/controls",
      "_model_module_version": "1.5.0",
      "_model_name": "HTMLModel",
      "_view_count": null,
      "_view_module": "@jupyter-widgets/controls",
      "_view_module_version": "1.5.0",
      "_view_name": "HTMLView",
      "description": "",
      "description_tooltip": null,
      "layout": "IPY_MODEL_d0572506298143d4882cd36c47c94887",
      "placeholder": "​",
      "style": "IPY_MODEL_630c707d96b74d4b94bf291a29b7d1f6",
      "value": " 9920512/? [00:20&lt;00:00, 803118.43it/s]"
     }
    },
    "94ca113b48284338ab6fea463e066060": {
     "model_module": "@jupyter-widgets/base",
     "model_name": "LayoutModel",
     "state": {
      "_model_module": "@jupyter-widgets/base",
      "_model_module_version": "1.2.0",
      "_model_name": "LayoutModel",
      "_view_count": null,
      "_view_module": "@jupyter-widgets/base",
      "_view_module_version": "1.2.0",
      "_view_name": "LayoutView",
      "align_content": null,
      "align_items": null,
      "align_self": null,
      "border": null,
      "bottom": null,
      "display": null,
      "flex": null,
      "flex_flow": null,
      "grid_area": null,
      "grid_auto_columns": null,
      "grid_auto_flow": null,
      "grid_auto_rows": null,
      "grid_column": null,
      "grid_gap": null,
      "grid_row": null,
      "grid_template_areas": null,
      "grid_template_columns": null,
      "grid_template_rows": null,
      "height": null,
      "justify_content": null,
      "justify_items": null,
      "left": null,
      "margin": null,
      "max_height": null,
      "max_width": null,
      "min_height": null,
      "min_width": null,
      "object_fit": null,
      "object_position": null,
      "order": null,
      "overflow": null,
      "overflow_x": null,
      "overflow_y": null,
      "padding": null,
      "right": null,
      "top": null,
      "visibility": null,
      "width": null
     }
    },
    "99c16c63eca04d6f86c082f827723a78": {
     "model_module": "@jupyter-widgets/controls",
     "model_name": "ProgressStyleModel",
     "state": {
      "_model_module": "@jupyter-widgets/controls",
      "_model_module_version": "1.5.0",
      "_model_name": "ProgressStyleModel",
      "_view_count": null,
      "_view_module": "@jupyter-widgets/base",
      "_view_module_version": "1.2.0",
      "_view_name": "StyleView",
      "bar_color": null,
      "description_width": "initial"
     }
    },
    "a369bed1e0db4f1c8ba333c6fd2193db": {
     "model_module": "@jupyter-widgets/controls",
     "model_name": "FloatProgressModel",
     "state": {
      "_dom_classes": [],
      "_model_module": "@jupyter-widgets/controls",
      "_model_module_version": "1.5.0",
      "_model_name": "FloatProgressModel",
      "_view_count": null,
      "_view_module": "@jupyter-widgets/controls",
      "_view_module_version": "1.5.0",
      "_view_name": "ProgressView",
      "bar_style": "info",
      "description": "  0%",
      "description_tooltip": null,
      "layout": "IPY_MODEL_48ebe5b670c441cc8f823bf595ced033",
      "max": 1,
      "min": 0,
      "orientation": "horizontal",
      "style": "IPY_MODEL_adc9a2bcb24e4d7fb1c0e188f94bd31a",
      "value": 0
     }
    },
    "adc9a2bcb24e4d7fb1c0e188f94bd31a": {
     "model_module": "@jupyter-widgets/controls",
     "model_name": "ProgressStyleModel",
     "state": {
      "_model_module": "@jupyter-widgets/controls",
      "_model_module_version": "1.5.0",
      "_model_name": "ProgressStyleModel",
      "_view_count": null,
      "_view_module": "@jupyter-widgets/base",
      "_view_module_version": "1.2.0",
      "_view_name": "StyleView",
      "bar_color": null,
      "description_width": "initial"
     }
    },
    "bac8e0ca6dfa40e4857b83ee39d2a33b": {
     "model_module": "@jupyter-widgets/base",
     "model_name": "LayoutModel",
     "state": {
      "_model_module": "@jupyter-widgets/base",
      "_model_module_version": "1.2.0",
      "_model_name": "LayoutModel",
      "_view_count": null,
      "_view_module": "@jupyter-widgets/base",
      "_view_module_version": "1.2.0",
      "_view_name": "LayoutView",
      "align_content": null,
      "align_items": null,
      "align_self": null,
      "border": null,
      "bottom": null,
      "display": null,
      "flex": null,
      "flex_flow": null,
      "grid_area": null,
      "grid_auto_columns": null,
      "grid_auto_flow": null,
      "grid_auto_rows": null,
      "grid_column": null,
      "grid_gap": null,
      "grid_row": null,
      "grid_template_areas": null,
      "grid_template_columns": null,
      "grid_template_rows": null,
      "height": null,
      "justify_content": null,
      "justify_items": null,
      "left": null,
      "margin": null,
      "max_height": null,
      "max_width": null,
      "min_height": null,
      "min_width": null,
      "object_fit": null,
      "object_position": null,
      "order": null,
      "overflow": null,
      "overflow_x": null,
      "overflow_y": null,
      "padding": null,
      "right": null,
      "top": null,
      "visibility": null,
      "width": null
     }
    },
    "bf929a5d7d3f4989b7b8933d22e6dff0": {
     "model_module": "@jupyter-widgets/controls",
     "model_name": "FloatProgressModel",
     "state": {
      "_dom_classes": [],
      "_model_module": "@jupyter-widgets/controls",
      "_model_module_version": "1.5.0",
      "_model_name": "FloatProgressModel",
      "_view_count": null,
      "_view_module": "@jupyter-widgets/controls",
      "_view_module_version": "1.5.0",
      "_view_name": "ProgressView",
      "bar_style": "success",
      "description": "",
      "description_tooltip": null,
      "layout": "IPY_MODEL_679e318a941342a2b0e391fe0cc2b6d5",
      "max": 1,
      "min": 0,
      "orientation": "horizontal",
      "style": "IPY_MODEL_99c16c63eca04d6f86c082f827723a78",
      "value": 1
     }
    },
    "c0776fdf4d4e45d590f46af37ebb5124": {
     "model_module": "@jupyter-widgets/controls",
     "model_name": "ProgressStyleModel",
     "state": {
      "_model_module": "@jupyter-widgets/controls",
      "_model_module_version": "1.5.0",
      "_model_name": "ProgressStyleModel",
      "_view_count": null,
      "_view_module": "@jupyter-widgets/base",
      "_view_module_version": "1.2.0",
      "_view_name": "StyleView",
      "bar_color": null,
      "description_width": "initial"
     }
    },
    "c287801b0f3245c3ba2a418deb24fc98": {
     "model_module": "@jupyter-widgets/base",
     "model_name": "LayoutModel",
     "state": {
      "_model_module": "@jupyter-widgets/base",
      "_model_module_version": "1.2.0",
      "_model_name": "LayoutModel",
      "_view_count": null,
      "_view_module": "@jupyter-widgets/base",
      "_view_module_version": "1.2.0",
      "_view_name": "LayoutView",
      "align_content": null,
      "align_items": null,
      "align_self": null,
      "border": null,
      "bottom": null,
      "display": null,
      "flex": null,
      "flex_flow": null,
      "grid_area": null,
      "grid_auto_columns": null,
      "grid_auto_flow": null,
      "grid_auto_rows": null,
      "grid_column": null,
      "grid_gap": null,
      "grid_row": null,
      "grid_template_areas": null,
      "grid_template_columns": null,
      "grid_template_rows": null,
      "height": null,
      "justify_content": null,
      "justify_items": null,
      "left": null,
      "margin": null,
      "max_height": null,
      "max_width": null,
      "min_height": null,
      "min_width": null,
      "object_fit": null,
      "object_position": null,
      "order": null,
      "overflow": null,
      "overflow_x": null,
      "overflow_y": null,
      "padding": null,
      "right": null,
      "top": null,
      "visibility": null,
      "width": null
     }
    },
    "c6a8d5a5ed4546fa8c18856122eb07e9": {
     "model_module": "@jupyter-widgets/controls",
     "model_name": "ProgressStyleModel",
     "state": {
      "_model_module": "@jupyter-widgets/controls",
      "_model_module_version": "1.5.0",
      "_model_name": "ProgressStyleModel",
      "_view_count": null,
      "_view_module": "@jupyter-widgets/base",
      "_view_module_version": "1.2.0",
      "_view_name": "StyleView",
      "bar_color": null,
      "description_width": "initial"
     }
    },
    "d0572506298143d4882cd36c47c94887": {
     "model_module": "@jupyter-widgets/base",
     "model_name": "LayoutModel",
     "state": {
      "_model_module": "@jupyter-widgets/base",
      "_model_module_version": "1.2.0",
      "_model_name": "LayoutModel",
      "_view_count": null,
      "_view_module": "@jupyter-widgets/base",
      "_view_module_version": "1.2.0",
      "_view_name": "LayoutView",
      "align_content": null,
      "align_items": null,
      "align_self": null,
      "border": null,
      "bottom": null,
      "display": null,
      "flex": null,
      "flex_flow": null,
      "grid_area": null,
      "grid_auto_columns": null,
      "grid_auto_flow": null,
      "grid_auto_rows": null,
      "grid_column": null,
      "grid_gap": null,
      "grid_row": null,
      "grid_template_areas": null,
      "grid_template_columns": null,
      "grid_template_rows": null,
      "height": null,
      "justify_content": null,
      "justify_items": null,
      "left": null,
      "margin": null,
      "max_height": null,
      "max_width": null,
      "min_height": null,
      "min_width": null,
      "object_fit": null,
      "object_position": null,
      "order": null,
      "overflow": null,
      "overflow_x": null,
      "overflow_y": null,
      "padding": null,
      "right": null,
      "top": null,
      "visibility": null,
      "width": null
     }
    },
    "dbe39e8d6a78401ba7b97c03bf35ae8f": {
     "model_module": "@jupyter-widgets/controls",
     "model_name": "HTMLModel",
     "state": {
      "_dom_classes": [],
      "_model_module": "@jupyter-widgets/controls",
      "_model_module_version": "1.5.0",
      "_model_name": "HTMLModel",
      "_view_count": null,
      "_view_module": "@jupyter-widgets/controls",
      "_view_module_version": "1.5.0",
      "_view_name": "HTMLView",
      "description": "",
      "description_tooltip": null,
      "layout": "IPY_MODEL_bac8e0ca6dfa40e4857b83ee39d2a33b",
      "placeholder": "​",
      "style": "IPY_MODEL_dc787a107f95451b925c2fa21570c644",
      "value": " 1654784/? [00:04&lt;00:00, 359813.74it/s]"
     }
    },
    "dc787a107f95451b925c2fa21570c644": {
     "model_module": "@jupyter-widgets/controls",
     "model_name": "DescriptionStyleModel",
     "state": {
      "_model_module": "@jupyter-widgets/controls",
      "_model_module_version": "1.5.0",
      "_model_name": "DescriptionStyleModel",
      "_view_count": null,
      "_view_module": "@jupyter-widgets/base",
      "_view_module_version": "1.2.0",
      "_view_name": "StyleView",
      "description_width": ""
     }
    },
    "de0384b667f1437aabc5efd33a43179d": {
     "model_module": "@jupyter-widgets/controls",
     "model_name": "HTMLModel",
     "state": {
      "_dom_classes": [],
      "_model_module": "@jupyter-widgets/controls",
      "_model_module_version": "1.5.0",
      "_model_name": "HTMLModel",
      "_view_count": null,
      "_view_module": "@jupyter-widgets/controls",
      "_view_module_version": "1.5.0",
      "_view_name": "HTMLView",
      "description": "",
      "description_tooltip": null,
      "layout": "IPY_MODEL_c287801b0f3245c3ba2a418deb24fc98",
      "placeholder": "​",
      "style": "IPY_MODEL_5b99e33da7064b2797983ccb5e3cb18d",
      "value": " 8192/? [00:03&lt;00:00, 2114.20it/s]"
     }
    },
    "e103a168185643fcb79c22bd253b9ec2": {
     "model_module": "@jupyter-widgets/controls",
     "model_name": "FloatProgressModel",
     "state": {
      "_dom_classes": [],
      "_model_module": "@jupyter-widgets/controls",
      "_model_module_version": "1.5.0",
      "_model_name": "FloatProgressModel",
      "_view_count": null,
      "_view_module": "@jupyter-widgets/controls",
      "_view_module_version": "1.5.0",
      "_view_name": "ProgressView",
      "bar_style": "info",
      "description": "",
      "description_tooltip": null,
      "layout": "IPY_MODEL_f8a59d97527e4d5daa8e06cfcf0077d6",
      "max": 1,
      "min": 0,
      "orientation": "horizontal",
      "style": "IPY_MODEL_c6a8d5a5ed4546fa8c18856122eb07e9",
      "value": 1
     }
    },
    "e20925ae5a9e4c37990ac1b2c9faaadd": {
     "model_module": "@jupyter-widgets/base",
     "model_name": "LayoutModel",
     "state": {
      "_model_module": "@jupyter-widgets/base",
      "_model_module_version": "1.2.0",
      "_model_name": "LayoutModel",
      "_view_count": null,
      "_view_module": "@jupyter-widgets/base",
      "_view_module_version": "1.2.0",
      "_view_name": "LayoutView",
      "align_content": null,
      "align_items": null,
      "align_self": null,
      "border": null,
      "bottom": null,
      "display": null,
      "flex": null,
      "flex_flow": null,
      "grid_area": null,
      "grid_auto_columns": null,
      "grid_auto_flow": null,
      "grid_auto_rows": null,
      "grid_column": null,
      "grid_gap": null,
      "grid_row": null,
      "grid_template_areas": null,
      "grid_template_columns": null,
      "grid_template_rows": null,
      "height": null,
      "justify_content": null,
      "justify_items": null,
      "left": null,
      "margin": null,
      "max_height": null,
      "max_width": null,
      "min_height": null,
      "min_width": null,
      "object_fit": null,
      "object_position": null,
      "order": null,
      "overflow": null,
      "overflow_x": null,
      "overflow_y": null,
      "padding": null,
      "right": null,
      "top": null,
      "visibility": null,
      "width": null
     }
    },
    "e8440e5e6ff247b58d438753bc74eba3": {
     "model_module": "@jupyter-widgets/base",
     "model_name": "LayoutModel",
     "state": {
      "_model_module": "@jupyter-widgets/base",
      "_model_module_version": "1.2.0",
      "_model_name": "LayoutModel",
      "_view_count": null,
      "_view_module": "@jupyter-widgets/base",
      "_view_module_version": "1.2.0",
      "_view_name": "LayoutView",
      "align_content": null,
      "align_items": null,
      "align_self": null,
      "border": null,
      "bottom": null,
      "display": null,
      "flex": null,
      "flex_flow": null,
      "grid_area": null,
      "grid_auto_columns": null,
      "grid_auto_flow": null,
      "grid_auto_rows": null,
      "grid_column": null,
      "grid_gap": null,
      "grid_row": null,
      "grid_template_areas": null,
      "grid_template_columns": null,
      "grid_template_rows": null,
      "height": null,
      "justify_content": null,
      "justify_items": null,
      "left": null,
      "margin": null,
      "max_height": null,
      "max_width": null,
      "min_height": null,
      "min_width": null,
      "object_fit": null,
      "object_position": null,
      "order": null,
      "overflow": null,
      "overflow_x": null,
      "overflow_y": null,
      "padding": null,
      "right": null,
      "top": null,
      "visibility": null,
      "width": null
     }
    },
    "f77779e4abe94999823c39cecad77d47": {
     "model_module": "@jupyter-widgets/controls",
     "model_name": "HBoxModel",
     "state": {
      "_dom_classes": [],
      "_model_module": "@jupyter-widgets/controls",
      "_model_module_version": "1.5.0",
      "_model_name": "HBoxModel",
      "_view_count": null,
      "_view_module": "@jupyter-widgets/controls",
      "_view_module_version": "1.5.0",
      "_view_name": "HBoxView",
      "box_style": "",
      "children": [
       "IPY_MODEL_bf929a5d7d3f4989b7b8933d22e6dff0",
       "IPY_MODEL_dbe39e8d6a78401ba7b97c03bf35ae8f"
      ],
      "layout": "IPY_MODEL_7df1cec482f140f998bbeb474f15fca4"
     }
    },
    "f8a59d97527e4d5daa8e06cfcf0077d6": {
     "model_module": "@jupyter-widgets/base",
     "model_name": "LayoutModel",
     "state": {
      "_model_module": "@jupyter-widgets/base",
      "_model_module_version": "1.2.0",
      "_model_name": "LayoutModel",
      "_view_count": null,
      "_view_module": "@jupyter-widgets/base",
      "_view_module_version": "1.2.0",
      "_view_name": "LayoutView",
      "align_content": null,
      "align_items": null,
      "align_self": null,
      "border": null,
      "bottom": null,
      "display": null,
      "flex": null,
      "flex_flow": null,
      "grid_area": null,
      "grid_auto_columns": null,
      "grid_auto_flow": null,
      "grid_auto_rows": null,
      "grid_column": null,
      "grid_gap": null,
      "grid_row": null,
      "grid_template_areas": null,
      "grid_template_columns": null,
      "grid_template_rows": null,
      "height": null,
      "justify_content": null,
      "justify_items": null,
      "left": null,
      "margin": null,
      "max_height": null,
      "max_width": null,
      "min_height": null,
      "min_width": null,
      "object_fit": null,
      "object_position": null,
      "order": null,
      "overflow": null,
      "overflow_x": null,
      "overflow_y": null,
      "padding": null,
      "right": null,
      "top": null,
      "visibility": null,
      "width": null
     }
    }
   }
  }
 },
 "nbformat": 4,
 "nbformat_minor": 0
}